{
 "cells": [
  {
   "cell_type": "code",
   "execution_count": 1,
   "metadata": {},
   "outputs": [],
   "source": [
    "import requests\n",
    "from base import *\n",
    "def test_set_state(state:GameState):  \n",
    "    params = {'state':state}\n",
    "    response = requests.get('http://localhost:5000/set_state', params=params)\n",
    "    return response\n",
    "  \n",
    "def test_get_state():  \n",
    "    response = requests.get('http://localhost:5000/get_state')  \n",
    "    return response\n",
    "  \n",
    "def test_get_info():  \n",
    "    response = requests.get('http://localhost:5000/get_info')  \n",
    "    return response\n",
    "  \n",
    "def test_get_history():  \n",
    "    response = requests.get('http://localhost:5000/get_history')  \n",
    "    return response\n",
    "  \n",
    "def test_get_total_score():  \n",
    "    response = requests.get('http://localhost:5000/get_total_score')  \n",
    "    return response"
   ]
  },
  {
   "cell_type": "code",
   "execution_count": 21,
   "metadata": {},
   "outputs": [
    {
     "data": {
      "text/plain": [
       "(200, {'state': 3})"
      ]
     },
     "execution_count": 21,
     "metadata": {},
     "output_type": "execute_result"
    }
   ],
   "source": [
    "resp = test_set_state(GameState.END.value)\n",
    "resp = test_get_state()\n",
    "resp.status_code, resp.json()"
   ]
  },
  {
   "cell_type": "code",
   "execution_count": 1,
   "metadata": {},
   "outputs": [
    {
     "name": "stdout",
     "output_type": "stream",
     "text": [
      "游戏开始，玩家选择起始手牌正反序\n",
      "游戏开始，玩家选择起始手牌正反序\n"
     ]
    }
   ],
   "source": [
    "from base import *\n",
    "gamer = Gamer(0)\n",
    "p1 = Player('p1')\n",
    "p2 = Player('p2')\n",
    "p3 = Player('p3')\n",
    "p4 = Player('p4')\n",
    "\n",
    "p1.set_gamer(gamer)\n",
    "p2.set_gamer(gamer)\n",
    "\n",
    "p1.ready_for_game()\n",
    "p2.ready_for_game()\n",
    "\n",
    "p1.choose_pokes_side(True)\n",
    "p2.choose_pokes_side(False)"
   ]
  },
  {
   "cell_type": "code",
   "execution_count": 2,
   "metadata": {},
   "outputs": [
    {
     "data": {
      "text/plain": [
       "{'gid': 0,\n",
       " 'players': [{'name': 'p1',\n",
       "   'state': 2,\n",
       "   'gamer': 0,\n",
       "   'pokes': [[1, 8, 5, 9, 7, 5, 3, 10, 3, 6, 8, 3, 6, 5, 6],\n",
       "    [8, 2, 10, 10, 2, 4, 9, 6, 1, 4, 7, 8, 5, 3, 2]]},\n",
       "  {'name': 'p2',\n",
       "   'state': 3,\n",
       "   'gamer': 0,\n",
       "   'pokes': [[4, 6, 4, 5, 9, 2, 4, 5, 8, 4, 3, 10, 2, 9, 4],\n",
       "    [9, 1, 2, 2, 7, 10, 7, 8, 10, 10, 6, 3, 3, 5, 1]]}],\n",
       " 'playing_num': 2,\n",
       " 'state': 2,\n",
       " 'info': '游戏开始',\n",
       " 'total_score': [],\n",
       " 'extra_points': [],\n",
       " 'displayed_pokes': '()',\n",
       " 'history': ['游戏开始: p2 先手']}"
      ]
     },
     "execution_count": 2,
     "metadata": {},
     "output_type": "execute_result"
    }
   ],
   "source": [
    "p2.json()\n",
    "gamer.json()"
   ]
  },
  {
   "cell_type": "code",
   "execution_count": 4,
   "metadata": {},
   "outputs": [
    {
     "name": "stdout",
     "output_type": "stream",
     "text": [
      "[<base.Poke object at 0x7f99735a6030>] [<base.Poke object at 0x7f99735a6330>]\n",
      "1 1\n",
      "[<base.Poke object at 0x7f99735a6330>] [<base.Poke object at 0x7f99735a6030>]\n",
      "1 1\n",
      "Pokes must be greater than table's (0)\n",
      "4(9) >= 1(8)\n"
     ]
    }
   ],
   "source": [
    "p1.play_pokes(\n",
    "    p1.choose_pokes_index(0, 1)\n",
    ")"
   ]
  },
  {
   "cell_type": "code",
   "execution_count": 3,
   "metadata": {},
   "outputs": [
    {
     "name": "stdout",
     "output_type": "stream",
     "text": [
      "[<base.Poke object at 0x7f99735a6330>] []\n",
      "1 1\n",
      "ok\n"
     ]
    }
   ],
   "source": [
    "p2.play_pokes(\n",
    "    p2.choose_pokes_index(0, 1)\n",
    ")"
   ]
  }
 ],
 "metadata": {
  "kernelspec": {
   "display_name": "base",
   "language": "python",
   "name": "python3"
  },
  "language_info": {
   "codemirror_mode": {
    "name": "ipython",
    "version": 3
   },
   "file_extension": ".py",
   "mimetype": "text/x-python",
   "name": "python",
   "nbconvert_exporter": "python",
   "pygments_lexer": "ipython3",
   "version": "3.12.2"
  }
 },
 "nbformat": 4,
 "nbformat_minor": 2
}

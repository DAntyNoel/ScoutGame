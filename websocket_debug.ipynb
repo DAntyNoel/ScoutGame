{
 "cells": [
  {
   "cell_type": "code",
   "execution_count": 36,
   "metadata": {},
   "outputs": [
    {
     "data": {
      "text/plain": [
       "{'code': 0, 'seq': 53, 'message': 'ok'}"
      ]
     },
     "execution_count": 36,
     "metadata": {},
     "output_type": "execute_result"
    }
   ],
   "source": [
    "from client import *\n",
    "websocket = await connect(\"ws://localhost:8001\")\n",
    "websocket2 = await connect(\"ws://localhost:8001\")\n",
    "websocket3 = await connect(\"ws://localhost:8001\")\n",
    "await query(websocket, SYS['connect'], name=\"test\", key=\"\")\n",
    "await query(websocket2, SYS['connect'], name=\"test2\", key=\"\")\n",
    "await query(websocket3, SYS['connect'], name=\"test3\", key=\"\")"
   ]
  },
  {
   "cell_type": "code",
   "execution_count": 37,
   "metadata": {},
   "outputs": [
    {
     "name": "stdout",
     "output_type": "stream",
     "text": [
      "\u001b[93mRecieve broadcast event:\n",
      "\u001b[0m {'func': 'playerJoin', 'info': '游戏招募中', 'gid': 'ac9273ab7489', 'target_name': 'test'} \n"
     ]
    },
    {
     "data": {
      "text/plain": [
       "{'code': 0, 'seq': 54, 'message': 'ac9273ab7489'}"
      ]
     },
     "execution_count": 37,
     "metadata": {},
     "output_type": "execute_result"
    }
   ],
   "source": [
    "resp = await query(websocket, QUERY['playerJoin'], name=\"test\", gid=\"\")\n",
    "gid = resp['message']\n",
    "resp\n"
   ]
  },
  {
   "cell_type": "code",
   "execution_count": 38,
   "metadata": {},
   "outputs": [
    {
     "name": "stdout",
     "output_type": "stream",
     "text": [
      "\u001b[93mRecieve broadcast event:\n",
      "\u001b[0m {'func': 'playerJoin', 'info': '游戏招募中', 'gid': 'ac9273ab7489', 'target_name': 'test2'} \n",
      "\u001b[93mRecieve broadcast event:\n",
      "\u001b[0m {'func': 'playerJoin', 'info': '游戏招募中', 'gid': 'ac9273ab7489', 'target_name': 'test3'} \n"
     ]
    },
    {
     "data": {
      "text/plain": [
       "({'code': 0, 'seq': 55, 'message': 'ac9273ab7489'},\n",
       " {'code': 0, 'seq': 56, 'message': 'ac9273ab7489'})"
      ]
     },
     "execution_count": 38,
     "metadata": {},
     "output_type": "execute_result"
    }
   ],
   "source": [
    "await query(\n",
    "    websocket2, \n",
    "    QUERY['playerJoin'],\n",
    "    name=\"test2\",\n",
    "    gid=gid\n",
    "), await query(\n",
    "    websocket3, \n",
    "    QUERY['playerJoin'],\n",
    "    name=\"test3\",\n",
    "    gid=gid\n",
    ")"
   ]
  },
  {
   "cell_type": "code",
   "execution_count": 9,
   "metadata": {},
   "outputs": [
    {
     "name": "stdout",
     "output_type": "stream",
     "text": [
      "\u001b[93mRecieve broadcast event:\n",
      "\u001b[0m {'func': 'playerJoin', 'info': '游戏招募中', 'gid': '96450f2e9edb', 'target_name': 'test3'} \n",
      "\u001b[93mRecieve broadcast event:\n",
      "\u001b[0m {'func': 'playerLeave', 'info': '游戏招募中，已准备 0/2', 'gid': '96450f2e9edb', 'target_name': 'test2'} \n"
     ]
    },
    {
     "data": {
      "text/plain": [
       "({'code': 0, 'seq': '12', 'message': 'ok'},\n",
       " {'code': 0, 'seq': 13, 'message': 'ok'})"
      ]
     },
     "execution_count": 9,
     "metadata": {},
     "output_type": "execute_result"
    }
   ],
   "source": [
    "await query(\n",
    "    websocket2, \n",
    "    QUERY['playerLeave'],\n",
    "    name=\"test2\",\n",
    "    gid=gid\n",
    "), await query(\n",
    "    websocket3,\n",
    "    QUERY['playerLeave'],\n",
    "    name=\"test3\",\n",
    "    gid=gid\n",
    ")"
   ]
  },
  {
   "cell_type": "code",
   "execution_count": null,
   "metadata": {},
   "outputs": [
    {
     "name": "stdout",
     "output_type": "stream",
     "text": [
      "\u001b[93mRecieve broadcast event:\n",
      "\u001b[0m {'func': 'playerJoin', 'info': '游戏招募中', 'gid': 'ac9273ab7489', 'target_name': 'test3'} \n",
      "\u001b[93mRecieve broadcast event:\n",
      "\u001b[0m {'func': 'playerReady', 'info': '游戏招募中，已准备 1/3', 'gid': 'ac9273ab7489', 'target_name': 'test2'} \n",
      "\u001b[93mRecieve broadcast event:\n",
      "\u001b[0m {'func': 'playerReady', 'info': '游戏招募中，已准备 1/3', 'gid': 'ac9273ab7489', 'target_name': 'test2'} \n",
      "\u001b[93mRecieve broadcast event:\n",
      "\u001b[0m {'func': 'playerReady', 'info': '游戏招募中，已准备 2/3', 'gid': 'ac9273ab7489', 'target_name': 'test3'} \n",
      "\u001b[93mRecieve broadcast event:\n",
      "\u001b[0m {'func': 'playerJoin', 'info': '游戏招募中', 'gid': 'ac9273ab7489', 'target_name': 'test2'} \n",
      "\u001b[93mRecieve broadcast event:\n",
      "\u001b[0m {'func': 'playerJoin', 'info': '游戏招募中', 'gid': 'ac9273ab7489', 'target_name': 'test3'} \n",
      "\u001b[93mRecieve broadcast event:\n",
      "\u001b[0m {'func': 'playerReady', 'info': '游戏招募中，已准备 1/3', 'gid': 'ac9273ab7489', 'target_name': 'test2'} \n",
      "\u001b[93mRecieve broadcast event:\n",
      "\u001b[0m {'func': 'playerReady', 'info': '游戏招募中，已准备 2/3', 'gid': 'ac9273ab7489', 'target_name': 'test3'} \n",
      "\u001b[93mRecieve broadcast event:\n",
      "\u001b[0m {'func': 'playerReady', 'info': '游戏招募中，已准备 3/3', 'gid': 'ac9273ab7489', 'target_name': 'test'} \n",
      "\u001b[93mRecieve broadcast event:\n",
      "\u001b[0m {'func': 'gameInit', 'info': '游戏开始，玩家选择起始手牌正反序', 'gid': 'ac9273ab7489'} \n"
     ]
    },
    {
     "data": {
      "text/plain": [
       "({'code': 0, 'seq': 57, 'message': 'ok'},\n",
       " {'code': 0, 'seq': 58, 'message': 'ok'},\n",
       " {'code': 0, 'seq': 59, 'message': 'ok'})"
      ]
     },
     "execution_count": 39,
     "metadata": {},
     "output_type": "execute_result"
    }
   ],
   "source": [
    "await query(\n",
    "    websocket2,\n",
    "    QUERY['playerReady'],\n",
    "    name=\"test2\",\n",
    "    gid=gid\n",
    "), await query(\n",
    "    websocket3,\n",
    "    QUERY['playerReady'],\n",
    "    name=\"test3\",\n",
    "    gid=gid    \n",
    "), await query(\n",
    "    websocket,\n",
    "    QUERY['playerReady'],\n",
    "    name=\"test\",\n",
    "    gid=gid\n",
    ")"
   ]
  },
  {
   "cell_type": "code",
   "execution_count": 138,
   "metadata": {},
   "outputs": [
    {
     "ename": "CancelledError",
     "evalue": "",
     "output_type": "error",
     "traceback": [
      "\u001b[0;31m---------------------------------------------------------------------------\u001b[0m",
      "\u001b[0;31mCancelledError\u001b[0m                            Traceback (most recent call last)",
      "Cell \u001b[0;32mIn[138], line 1\u001b[0m\n\u001b[0;32m----> 1\u001b[0m (json\u001b[38;5;241m.\u001b[39mloads(\u001b[38;5;28;01mawait\u001b[39;00m websocket\u001b[38;5;241m.\u001b[39mrecv()))\n",
      "File \u001b[0;32m~/miniconda3/lib/python3.12/site-packages/websockets/legacy/protocol.py:548\u001b[0m, in \u001b[0;36mWebSocketCommonProtocol.recv\u001b[0;34m(self)\u001b[0m\n\u001b[1;32m    544\u001b[0m \u001b[38;5;28mself\u001b[39m\u001b[38;5;241m.\u001b[39m_pop_message_waiter \u001b[38;5;241m=\u001b[39m pop_message_waiter\n\u001b[1;32m    545\u001b[0m \u001b[38;5;28;01mtry\u001b[39;00m:\n\u001b[1;32m    546\u001b[0m     \u001b[38;5;66;03m# If asyncio.wait() is canceled, it doesn't cancel\u001b[39;00m\n\u001b[1;32m    547\u001b[0m     \u001b[38;5;66;03m# pop_message_waiter and self.transfer_data_task.\u001b[39;00m\n\u001b[0;32m--> 548\u001b[0m     \u001b[38;5;28;01mawait\u001b[39;00m asyncio\u001b[38;5;241m.\u001b[39mwait(\n\u001b[1;32m    549\u001b[0m         [pop_message_waiter, \u001b[38;5;28mself\u001b[39m\u001b[38;5;241m.\u001b[39mtransfer_data_task],\n\u001b[1;32m    550\u001b[0m         return_when\u001b[38;5;241m=\u001b[39masyncio\u001b[38;5;241m.\u001b[39mFIRST_COMPLETED,\n\u001b[1;32m    551\u001b[0m     )\n\u001b[1;32m    552\u001b[0m \u001b[38;5;28;01mfinally\u001b[39;00m:\n\u001b[1;32m    553\u001b[0m     \u001b[38;5;28mself\u001b[39m\u001b[38;5;241m.\u001b[39m_pop_message_waiter \u001b[38;5;241m=\u001b[39m \u001b[38;5;28;01mNone\u001b[39;00m\n",
      "File \u001b[0;32m~/miniconda3/lib/python3.12/asyncio/tasks.py:464\u001b[0m, in \u001b[0;36mwait\u001b[0;34m(fs, timeout, return_when)\u001b[0m\n\u001b[1;32m    461\u001b[0m     \u001b[38;5;28;01mraise\u001b[39;00m \u001b[38;5;167;01mTypeError\u001b[39;00m(\u001b[38;5;124m\"\u001b[39m\u001b[38;5;124mPassing coroutines is forbidden, use tasks explicitly.\u001b[39m\u001b[38;5;124m\"\u001b[39m)\n\u001b[1;32m    463\u001b[0m loop \u001b[38;5;241m=\u001b[39m events\u001b[38;5;241m.\u001b[39mget_running_loop()\n\u001b[0;32m--> 464\u001b[0m \u001b[38;5;28;01mreturn\u001b[39;00m \u001b[38;5;28;01mawait\u001b[39;00m _wait(fs, timeout, return_when, loop)\n",
      "File \u001b[0;32m~/miniconda3/lib/python3.12/asyncio/tasks.py:550\u001b[0m, in \u001b[0;36m_wait\u001b[0;34m(fs, timeout, return_when, loop)\u001b[0m\n\u001b[1;32m    547\u001b[0m     f\u001b[38;5;241m.\u001b[39madd_done_callback(_on_completion)\n\u001b[1;32m    549\u001b[0m \u001b[38;5;28;01mtry\u001b[39;00m:\n\u001b[0;32m--> 550\u001b[0m     \u001b[38;5;28;01mawait\u001b[39;00m waiter\n\u001b[1;32m    551\u001b[0m \u001b[38;5;28;01mfinally\u001b[39;00m:\n\u001b[1;32m    552\u001b[0m     \u001b[38;5;28;01mif\u001b[39;00m timeout_handle \u001b[38;5;129;01mis\u001b[39;00m \u001b[38;5;129;01mnot\u001b[39;00m \u001b[38;5;28;01mNone\u001b[39;00m:\n",
      "\u001b[0;31mCancelledError\u001b[0m: "
     ]
    }
   ],
   "source": [
    "(json.loads(await websocket.recv()))"
   ]
  },
  {
   "cell_type": "code",
   "execution_count": 9,
   "metadata": {},
   "outputs": [
    {
     "data": {
      "text/plain": [
       "'{\"func\": \"receivePokes\", \"seq\": -1, \"gid\": \"43134db27fc5\", \"name\": \"test2\", \"pokes\": \"6 8 3 6 3 4 9 4 4 3 1 2 4 T 7,1 5 6 9 1 9 1 T 5 T 5 5 6 1 2\"}'"
      ]
     },
     "execution_count": 9,
     "metadata": {},
     "output_type": "execute_result"
    }
   ],
   "source": [
    "(json.loads(await websocket2.recv()))"
   ]
  },
  {
   "cell_type": "code",
   "execution_count": 12,
   "metadata": {},
   "outputs": [
    {
     "data": {
      "text/plain": [
       "'{\"func\": \"receivePokes\", \"seq\": -1, \"gid\": \"43134db27fc5\", \"name\": \"test3\", \"pokes\": \"7 6 9 8 1 8 2 T 8 2 1 4 9 T 8,5 7 3 7 2 3 T 8 4 6 4 2 7 9 6\"}'"
      ]
     },
     "execution_count": 12,
     "metadata": {},
     "output_type": "execute_result"
    }
   ],
   "source": [
    "(json.loads(await websocket3.recv()))"
   ]
  },
  {
   "cell_type": "code",
   "execution_count": 137,
   "metadata": {},
   "outputs": [
    {
     "data": {
      "text/plain": [
       "({'code': 400,\n",
       "  'seq': 193,\n",
       "  'message': 'Ingame Error: Only player in init state can upset pokes'},\n",
       " {'code': 400,\n",
       "  'seq': 194,\n",
       "  'message': 'Ingame Error: Only player in init state can upset pokes'},\n",
       " {'code': 400,\n",
       "  'seq': 195,\n",
       "  'message': 'Ingame Error: Only player in init state can upset pokes'})"
      ]
     },
     "execution_count": 137,
     "metadata": {},
     "output_type": "execute_result"
    }
   ],
   "source": [
    "await query(\n",
    "    websocket,\n",
    "    QUERY['choosePokeSide'],\n",
    "    name=\"test\",\n",
    "    gid=gid,\n",
    "    reverse=False\n",
    "), await query(\n",
    "    websocket2,\n",
    "    QUERY['choosePokeSide'],\n",
    "    name=\"test2\",\n",
    "    gid=gid,\n",
    "    reverse=True\n",
    "), await query(\n",
    "    websocket3,\n",
    "    QUERY['choosePokeSide'],\n",
    "    name=\"test3\",\n",
    "    gid=gid,\n",
    "    reverse=False\n",
    ")"
   ]
  },
  {
   "cell_type": "code",
   "execution_count": 136,
   "metadata": {},
   "outputs": [
    {
     "data": {
      "text/plain": [
       "({'code': 0, 'seq': 190, 'message': ','},\n",
       " {'code': 0,\n",
       "  'seq': 191,\n",
       "  'message': '1 3 5 5 6 4 1 T 5 7 2 6 3,3 7 7 6 T 9 7 2 3 9 7 1 8'},\n",
       " {'code': 0,\n",
       "  'seq': 192,\n",
       "  'message': '9 2 T 9 1 8 2 T 7 8 8 7,5 3 3 3 2 6 9 1 4 1 4 T'})"
      ]
     },
     "execution_count": 136,
     "metadata": {},
     "output_type": "execute_result"
    }
   ],
   "source": [
    "await query(\n",
    "    websocket,\n",
    "    GET['getPokes'],\n",
    "    name=\"test\",\n",
    "    gid=gid\n",
    "), await query(\n",
    "    websocket2,\n",
    "    GET['getPokes'],\n",
    "    name=\"test2\",\n",
    "    gid=gid\n",
    "), await query(\n",
    "    websocket3,\n",
    "    GET['getPokes'],\n",
    "    name=\"test3\",\n",
    "    gid=gid\n",
    ")"
   ]
  },
  {
   "cell_type": "code",
   "execution_count": 130,
   "metadata": {},
   "outputs": [
    {
     "name": "stdout",
     "output_type": "stream",
     "text": [
      "\u001b[93mRecieve broadcast event:\n",
      "\u001b[0m {'func': 'gameAction', 'info': '游戏开始', 'gid': 'ac9273ab7489', 'table': '5,T', 'target_name': 'test2', 'op': {'game_operation': 'test2 出牌 5,T', 'target_name': 'test2', 'type_': 0, 'detail': '5,T'}} \n",
      "\u001b[93mRecieve broadcast event:\n",
      "\u001b[0m {'func': 'gameAction', 'info': '游戏开始', 'gid': 'ac9273ab7489', 'table': '5,T', 'target_name': 'test3', 'op': {'game_operation': 'test2 出牌 5,T', 'target_name': 'test2', 'type_': 0, 'detail': '5,T'}} \n",
      "\u001b[93mRecieve broadcast event:\n",
      "\u001b[0m {'func': 'gameAction', 'info': '游戏开始', 'gid': 'ac9273ab7489', 'table': '6,4', 'target_name': 'test3', 'op': {'game_operation': 'test3 出牌 6,4', 'target_name': 'test3', 'type_': 0, 'detail': '6,4'}} \n",
      "\u001b[93mRecieve broadcast event:\n",
      "\u001b[0m {'func': 'gameAction', 'info': '游戏开始', 'gid': 'ac9273ab7489', 'table': '6,4', 'target_name': 'test', 'op': {'game_operation': 'test3 出牌 6,4', 'target_name': 'test3', 'type_': 0, 'detail': '6,4'}} \n",
      "\u001b[93mRecieve broadcast event:\n",
      "\u001b[0m {'func': 'gameEnd', 'info': '游戏结束，test获胜！', 'gid': 'ac9273ab7489', 'target_name': 'test3'} \n"
     ]
    },
    {
     "data": {
      "text/plain": [
       "{'code': 0, 'seq': 184, 'message': 'ok'}"
      ]
     },
     "execution_count": 130,
     "metadata": {},
     "output_type": "execute_result"
    }
   ],
   "source": [
    "await query(\n",
    "    websocket,\n",
    "    QUERY['playPokes'],\n",
    "    name=\"test\",\n",
    "    gid=gid,\n",
    "    b_index=0,\n",
    "    e_index=2\n",
    ")"
   ]
  },
  {
   "cell_type": "code",
   "execution_count": 131,
   "metadata": {},
   "outputs": [
    {
     "name": "stdout",
     "output_type": "stream",
     "text": [
      "\u001b[93mRecieve broadcast event:\n",
      "\u001b[0m {'func': 'gameAction', 'info': '游戏开始', 'gid': 'ac9273ab7489', 'table': '6,4', 'target_name': 'test3', 'op': {'game_operation': 'test3 出牌 6,4', 'target_name': 'test3', 'type_': 0, 'detail': '6,4'}} \n",
      "\u001b[93mRecieve broadcast event:\n",
      "\u001b[0m {'func': 'gameAction', 'info': '游戏开始', 'gid': 'ac9273ab7489', 'table': '6,4', 'target_name': 'test', 'op': {'game_operation': 'test3 出牌 6,4', 'target_name': 'test3', 'type_': 0, 'detail': '6,4'}} \n",
      "\u001b[93mRecieve broadcast event:\n",
      "\u001b[0m {'func': 'gameEnd', 'info': '游戏结束，test获胜！', 'gid': 'ac9273ab7489', 'target_name': 'test3'} \n"
     ]
    },
    {
     "data": {
      "text/plain": [
       "{'code': 400,\n",
       " 'seq': 185,\n",
       " 'message': 'Only player in turn state can play pokes'}"
      ]
     },
     "execution_count": 131,
     "metadata": {},
     "output_type": "execute_result"
    }
   ],
   "source": [
    "await query(\n",
    "    websocket2,\n",
    "    QUERY['playPokes'],\n",
    "    name=\"test2\",\n",
    "    gid=gid,\n",
    "    b_index=0,\n",
    "    e_index=1\n",
    ")"
   ]
  },
  {
   "cell_type": "code",
   "execution_count": 132,
   "metadata": {},
   "outputs": [
    {
     "name": "stdout",
     "output_type": "stream",
     "text": [
      "\u001b[93mRecieve broadcast event:\n",
      "\u001b[0m {'func': 'gameEnd', 'info': '游戏结束，test获胜！', 'gid': 'ac9273ab7489', 'target_name': 'test3'} \n"
     ]
    },
    {
     "data": {
      "text/plain": [
       "{'code': 400,\n",
       " 'seq': 186,\n",
       " 'message': 'Only player in turn state can play pokes'}"
      ]
     },
     "execution_count": 132,
     "metadata": {},
     "output_type": "execute_result"
    }
   ],
   "source": [
    "await query(\n",
    "    websocket3,\n",
    "    QUERY['playPokes'],\n",
    "    name=\"test3\",\n",
    "    gid=gid,\n",
    "    b_index=0,\n",
    "    e_index=1\n",
    ")"
   ]
  },
  {
   "cell_type": "code",
   "execution_count": 133,
   "metadata": {},
   "outputs": [
    {
     "data": {
      "text/plain": [
       "{'code': 400,\n",
       " 'seq': 187,\n",
       " 'message': 'Only player in turn state can draw pokes'}"
      ]
     },
     "execution_count": 133,
     "metadata": {},
     "output_type": "execute_result"
    }
   ],
   "source": [
    "await query(\n",
    "    websocket,\n",
    "    QUERY['drawPokes'],\n",
    "    name=\"test\",\n",
    "    gid=gid,\n",
    "    index=0,\n",
    "    reverse=False,\n",
    "    insert_to=0\n",
    ")"
   ]
  },
  {
   "cell_type": "code",
   "execution_count": 125,
   "metadata": {},
   "outputs": [
    {
     "name": "stdout",
     "output_type": "stream",
     "text": [
      "\u001b[93mRecieve broadcast event:\n",
      "\u001b[0m {'func': 'gameAction', 'info': '游戏开始', 'gid': 'ac9273ab7489', 'table': 'T,5', 'target_name': 'test', 'op': {'game_operation': 'test 出牌 T,5', 'target_name': 'test', 'type_': 0, 'detail': 'T,5'}} \n",
      "\u001b[93mRecieve broadcast event:\n",
      "\u001b[0m {'func': 'gameAction', 'info': '游戏开始', 'gid': 'ac9273ab7489', 'table': 'T,5', 'target_name': 'test2', 'op': {'game_operation': 'test 出牌 T,5', 'target_name': 'test', 'type_': 0, 'detail': 'T,5'}} \n",
      "\u001b[93mRecieve broadcast event:\n",
      "\u001b[0m {'func': 'gameAction', 'info': '游戏开始', 'gid': 'ac9273ab7489', 'table': ',', 'target_name': 'test2', 'op': {'game_operation': 'test2 摸牌 5', 'target_name': 'test2', 'type_': 1, 'detail': '5,T'}} \n",
      "\u001b[93mRecieve broadcast event:\n",
      "\u001b[0m {'func': 'gameAction', 'info': '游戏开始', 'gid': 'ac9273ab7489', 'table': ',', 'target_name': 'test3', 'op': {'game_operation': 'test2 摸牌 5', 'target_name': 'test2', 'type_': 1, 'detail': '5,T'}} \n"
     ]
    },
    {
     "data": {
      "text/plain": [
       "{'code': 0, 'seq': 179, 'message': 'ok'}"
      ]
     },
     "execution_count": 125,
     "metadata": {},
     "output_type": "execute_result"
    }
   ],
   "source": [
    "await query(\n",
    "    websocket2,\n",
    "    QUERY['drawPokes'],\n",
    "    name=\"test2\",\n",
    "    gid=gid,\n",
    "    index=0,\n",
    "    reverse=True,\n",
    "    insert_to=0\n",
    ")"
   ]
  },
  {
   "cell_type": "code",
   "execution_count": 117,
   "metadata": {},
   "outputs": [
    {
     "name": "stdout",
     "output_type": "stream",
     "text": [
      "\u001b[93mRecieve broadcast event:\n",
      "\u001b[0m {'func': 'gameAction', 'info': '游戏开始', 'gid': 'ac9273ab7489', 'table': '6,7', 'target_name': 'test', 'op': {'game_operation': 'test 出牌 6,7', 'target_name': 'test', 'type_': 0, 'detail': '6,7'}} \n",
      "\u001b[93mRecieve broadcast event:\n",
      "\u001b[0m {'func': 'gameAction', 'info': '游戏开始', 'gid': 'ac9273ab7489', 'table': '6,7', 'target_name': 'test2', 'op': {'game_operation': 'test 出牌 6,7', 'target_name': 'test', 'type_': 0, 'detail': '6,7'}} \n",
      "\u001b[93mRecieve broadcast event:\n",
      "\u001b[0m {'func': 'gameAction', 'info': '游戏开始', 'gid': 'ac9273ab7489', 'table': ',', 'target_name': 'test2', 'op': {'game_operation': 'test2 摸牌 7', 'target_name': 'test2', 'type_': 1, 'detail': '7,6'}} \n",
      "\u001b[93mRecieve broadcast event:\n",
      "\u001b[0m {'func': 'gameAction', 'info': '游戏开始', 'gid': 'ac9273ab7489', 'table': ',', 'target_name': 'test3', 'op': {'game_operation': 'test2 摸牌 7', 'target_name': 'test2', 'type_': 1, 'detail': '7,6'}} \n"
     ]
    },
    {
     "data": {
      "text/plain": [
       "{'code': 400, 'seq': 169, 'message': 'Displayed pokes must exist'}"
      ]
     },
     "execution_count": 117,
     "metadata": {},
     "output_type": "execute_result"
    }
   ],
   "source": [
    "await query(\n",
    "    websocket3,\n",
    "    QUERY['drawPokes'],\n",
    "    name=\"test3\",\n",
    "    gid=gid,\n",
    "    index=0,\n",
    "    reverse=False,\n",
    "    insert_to=0\n",
    ")"
   ]
  },
  {
   "cell_type": "code",
   "execution_count": 134,
   "metadata": {},
   "outputs": [
    {
     "data": {
      "text/plain": [
       "{'code': 0,\n",
       " 'seq': 188,\n",
       " 'message': {'turn': 46,\n",
       "  'players': ['test', 'test2', 'test3'],\n",
       "  'goal_pokes': [9, 6, 3],\n",
       "  'remain_pokes': [0, 13, 12],\n",
       "  'extra_points': {'test': 8, 'test2': 5, 'test3': 2},\n",
       "  'table': '9 8,1 2',\n",
       "  'last_op': {'game_operation': 'test 出牌 9 8,1 2',\n",
       "   'target_name': 'test',\n",
       "   'type_': 0,\n",
       "   'detail': '9 8,1 2'}}}"
      ]
     },
     "execution_count": 134,
     "metadata": {},
     "output_type": "execute_result"
    }
   ],
   "source": [
    "await query(\n",
    "    websocket,\n",
    "    GET['getGameInfo'],\n",
    "    name=\"test\",\n",
    "    gid=gid\n",
    ")"
   ]
  },
  {
   "cell_type": "code",
   "execution_count": 135,
   "metadata": {},
   "outputs": [
    {
     "data": {
      "text/plain": [
       "{'code': 0, 'seq': 189, 'message': {'test': 17, 'test2': -2, 'test3': -7}}"
      ]
     },
     "execution_count": 135,
     "metadata": {},
     "output_type": "execute_result"
    }
   ],
   "source": [
    "await query(\n",
    "    websocket,\n",
    "    GET['getTotalScore'],\n",
    "    name=\"test\",\n",
    "    gid=gid\n",
    ")"
   ]
  }
 ],
 "metadata": {
  "kernelspec": {
   "display_name": "base",
   "language": "python",
   "name": "python3"
  },
  "language_info": {
   "codemirror_mode": {
    "name": "ipython",
    "version": 3
   },
   "file_extension": ".py",
   "mimetype": "text/x-python",
   "name": "python",
   "nbconvert_exporter": "python",
   "pygments_lexer": "ipython3",
   "version": "3.12.2"
  }
 },
 "nbformat": 4,
 "nbformat_minor": 2
}

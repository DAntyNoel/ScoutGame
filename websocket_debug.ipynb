{
 "cells": [
  {
   "cell_type": "code",
   "execution_count": null,
   "metadata": {},
   "outputs": [],
   "source": [
    "from client import *\n",
    "websocket = await connect(\"ws://localhost:8001\")\n",
    "websocket2 = await connect(\"ws://localhost:8001\")\n",
    "websocket3 = await connect(\"ws://localhost:8001\")\n",
    "await query(websocket, SYS['connect'], name=\"test\", key=\"\")\n",
    "await query(websocket2, SYS['connect'], name=\"test2\", key=\"\")\n",
    "await query(websocket3, SYS['connect'], name=\"test3\", key=\"\")"
   ]
  },
  {
   "cell_type": "code",
   "execution_count": null,
   "metadata": {},
   "outputs": [],
   "source": [
    "resp = await query(websocket, QUERY['playerJoin'], name=\"test\", gid=\"\")\n",
    "gid = resp['message']\n",
    "resp\n"
   ]
  },
  {
   "cell_type": "code",
   "execution_count": null,
   "metadata": {},
   "outputs": [],
   "source": [
    "await query(\n",
    "    websocket2, \n",
    "    QUERY['playerJoin'],\n",
    "    name=\"test2\",\n",
    "    gid=gid\n",
    "), await query(\n",
    "    websocket3, \n",
    "    QUERY['playerJoin'],\n",
    "    name=\"test3\",\n",
    "    gid=gid\n",
    ")"
   ]
  },
  {
   "cell_type": "code",
   "execution_count": null,
   "metadata": {},
   "outputs": [],
   "source": [
    "await query(\n",
    "    websocket2, \n",
    "    QUERY['playerLeave'],\n",
    "    name=\"test2\",\n",
    "    gid=gid\n",
    "), await query(\n",
    "    websocket3,\n",
    "    QUERY['playerLeave'],\n",
    "    name=\"test3\",\n",
    "    gid=gid\n",
    ")"
   ]
  },
  {
   "cell_type": "code",
   "execution_count": null,
   "metadata": {},
   "outputs": [],
   "source": [
    "await query(\n",
    "    websocket2,\n",
    "    QUERY['playerReady'],\n",
    "    name=\"test2\",\n",
    "    gid=gid\n",
    "), await query(\n",
    "    websocket3,\n",
    "    QUERY['playerReady'],\n",
    "    name=\"test3\",\n",
    "    gid=gid    \n",
    "), await query(\n",
    "    websocket,\n",
    "    QUERY['playerReady'],\n",
    "    name=\"test\",\n",
    "    gid=gid\n",
    ")"
   ]
  },
  {
   "cell_type": "code",
   "execution_count": null,
   "metadata": {},
   "outputs": [],
   "source": [
    "(json.loads(await websocket.recv()))"
   ]
  },
  {
   "cell_type": "code",
   "execution_count": null,
   "metadata": {},
   "outputs": [],
   "source": [
    "(json.loads(await websocket2.recv()))"
   ]
  },
  {
   "cell_type": "code",
   "execution_count": null,
   "metadata": {},
   "outputs": [],
   "source": [
    "(json.loads(await websocket3.recv()))"
   ]
  },
  {
   "cell_type": "code",
   "execution_count": null,
   "metadata": {},
   "outputs": [],
   "source": [
    "await query(\n",
    "    websocket,\n",
    "    QUERY['choosePokeOrder'],\n",
    "    name=\"test\",\n",
    "    gid=gid,\n",
    "    reverse=False\n",
    "), await query(\n",
    "    websocket2,\n",
    "    QUERY['choosePokeOrder'],\n",
    "    name=\"test2\",\n",
    "    gid=gid,\n",
    "    reverse=True\n",
    "), await query(\n",
    "    websocket3,\n",
    "    QUERY['choosePokeOrder'],\n",
    "    name=\"test3\",\n",
    "    gid=gid,\n",
    "    reverse=False\n",
    ")"
   ]
  },
  {
   "cell_type": "code",
   "execution_count": null,
   "metadata": {},
   "outputs": [],
   "source": [
    "await query(\n",
    "    websocket,\n",
    "    GET['getPokes'],\n",
    "    name=\"test\",\n",
    "    gid=gid\n",
    "), await query(\n",
    "    websocket2,\n",
    "    GET['getPokes'],\n",
    "    name=\"test2\",\n",
    "    gid=gid\n",
    "), await query(\n",
    "    websocket3,\n",
    "    GET['getPokes'],\n",
    "    name=\"test3\",\n",
    "    gid=gid\n",
    ")"
   ]
  },
  {
   "cell_type": "code",
   "execution_count": null,
   "metadata": {},
   "outputs": [],
   "source": [
    "await query(\n",
    "    websocket,\n",
    "    QUERY['show'],\n",
    "    name=\"test\",\n",
    "    gid=gid,\n",
    "    b_index=0,\n",
    "    e_index=2\n",
    ")"
   ]
  },
  {
   "cell_type": "code",
   "execution_count": null,
   "metadata": {},
   "outputs": [],
   "source": [
    "await query(\n",
    "    websocket2,\n",
    "    QUERY['show'],\n",
    "    name=\"test2\",\n",
    "    gid=gid,\n",
    "    b_index=0,\n",
    "    e_index=1\n",
    ")"
   ]
  },
  {
   "cell_type": "code",
   "execution_count": null,
   "metadata": {},
   "outputs": [],
   "source": [
    "await query(\n",
    "    websocket3,\n",
    "    QUERY['show'],\n",
    "    name=\"test3\",\n",
    "    gid=gid,\n",
    "    b_index=0,\n",
    "    e_index=1\n",
    ")"
   ]
  },
  {
   "cell_type": "code",
   "execution_count": null,
   "metadata": {},
   "outputs": [],
   "source": [
    "await query(\n",
    "    websocket,\n",
    "    QUERY['scout'],\n",
    "    name=\"test\",\n",
    "    gid=gid,\n",
    "    index=0,\n",
    "    reverse=False,\n",
    "    insert_to=0\n",
    ")"
   ]
  },
  {
   "cell_type": "code",
   "execution_count": null,
   "metadata": {},
   "outputs": [],
   "source": [
    "await query(\n",
    "    websocket2,\n",
    "    QUERY['scout'],\n",
    "    name=\"test2\",\n",
    "    gid=gid,\n",
    "    index=0,\n",
    "    reverse=True,\n",
    "    insert_to=0\n",
    ")"
   ]
  },
  {
   "cell_type": "code",
   "execution_count": null,
   "metadata": {},
   "outputs": [],
   "source": [
    "await query(\n",
    "    websocket3,\n",
    "    QUERY['scout'],\n",
    "    name=\"test3\",\n",
    "    gid=gid,\n",
    "    index=0,\n",
    "    reverse=False,\n",
    "    insert_to=0\n",
    ")"
   ]
  },
  {
   "cell_type": "code",
   "execution_count": null,
   "metadata": {},
   "outputs": [],
   "source": [
    "await query(\n",
    "    websocket,\n",
    "    GET['getGameInfo'],\n",
    "    name=\"test\",\n",
    "    gid=gid\n",
    ")"
   ]
  },
  {
   "cell_type": "code",
   "execution_count": null,
   "metadata": {},
   "outputs": [],
   "source": [
    "await query(\n",
    "    websocket,\n",
    "    GET['getTotalScore'],\n",
    "    name=\"test\",\n",
    "    gid=gid\n",
    ")"
   ]
  }
 ],
 "metadata": {
  "kernelspec": {
   "display_name": "base",
   "language": "python",
   "name": "python3"
  },
  "language_info": {
   "codemirror_mode": {
    "name": "ipython",
    "version": 3
   },
   "file_extension": ".py",
   "mimetype": "text/x-python",
   "name": "python",
   "nbconvert_exporter": "python",
   "pygments_lexer": "ipython3",
   "version": "3.12.2"
  }
 },
 "nbformat": 4,
 "nbformat_minor": 2
}

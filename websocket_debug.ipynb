{
 "cells": [
  {
   "cell_type": "code",
   "execution_count": 14,
   "metadata": {},
   "outputs": [
    {
     "data": {
      "text/plain": [
       "{'code': 0, 'seq': 28, 'message': 'ok'}"
      ]
     },
     "execution_count": 14,
     "metadata": {},
     "output_type": "execute_result"
    }
   ],
   "source": [
    "from client import *\n",
    "websocket = await connect(\"ws://localhost:8001\")\n",
    "websocket2 = await connect(\"ws://localhost:8001\")\n",
    "websocket3 = await connect(\"ws://localhost:8001\")\n",
    "await query(websocket, SYS['login'], name=\"test\", key=\"\")\n",
    "await query(websocket2, SYS['login'], name=\"test2\", key=\"\")\n",
    "await query(websocket3, SYS['login'], name=\"test3\", key=\"\")"
   ]
  },
  {
   "cell_type": "code",
   "execution_count": 15,
   "metadata": {},
   "outputs": [
    {
     "name": "stdout",
     "output_type": "stream",
     "text": [
      "\u001b[93mRecieve broadcast event:\n",
      "\u001b[0m {'func': 'playerJoin', 'info': '游戏招募中', 'gid': '9a486a6e1229', 'target_name': 'test'} \n"
     ]
    },
    {
     "data": {
      "text/plain": [
       "{'code': 0, 'seq': 29, 'message': '9a486a6e1229'}"
      ]
     },
     "execution_count": 15,
     "metadata": {},
     "output_type": "execute_result"
    }
   ],
   "source": [
    "resp = await query(websocket, QUERY['playerJoin'], name=\"test\", gid=\"\")\n",
    "gid = resp['message']\n",
    "resp\n"
   ]
  },
  {
   "cell_type": "code",
   "execution_count": 16,
   "metadata": {},
   "outputs": [
    {
     "name": "stdout",
     "output_type": "stream",
     "text": [
      "\u001b[93mRecieve broadcast event:\n",
      "\u001b[0m {'func': 'playerJoin', 'info': '游戏招募中', 'gid': '9a486a6e1229', 'target_name': 'test2'} \n",
      "\u001b[93mRecieve broadcast event:\n",
      "\u001b[0m {'func': 'playerJoin', 'info': '游戏招募中', 'gid': '9a486a6e1229', 'target_name': 'test3'} \n"
     ]
    },
    {
     "data": {
      "text/plain": [
       "({'code': 0, 'seq': 30, 'message': '9a486a6e1229'},\n",
       " {'code': 0, 'seq': 31, 'message': '9a486a6e1229'})"
      ]
     },
     "execution_count": 16,
     "metadata": {},
     "output_type": "execute_result"
    }
   ],
   "source": [
    "await query(\n",
    "    websocket2, \n",
    "    QUERY['playerJoin'],\n",
    "    name=\"test2\",\n",
    "    gid=gid\n",
    "), await query(\n",
    "    websocket3, \n",
    "    QUERY['playerJoin'],\n",
    "    name=\"test3\",\n",
    "    gid=gid\n",
    ")"
   ]
  },
  {
   "cell_type": "code",
   "execution_count": null,
   "metadata": {},
   "outputs": [],
   "source": [
    "await query(\n",
    "    websocket2, \n",
    "    QUERY['playerLeave'],\n",
    "    name=\"test2\",\n",
    "    gid=gid\n",
    "), await query(\n",
    "    websocket3,\n",
    "    QUERY['playerLeave'],\n",
    "    name=\"test3\",\n",
    "    gid=gid\n",
    ")"
   ]
  },
  {
   "cell_type": "code",
   "execution_count": 17,
   "metadata": {},
   "outputs": [
    {
     "name": "stdout",
     "output_type": "stream",
     "text": [
      "\u001b[93mRecieve broadcast event:\n",
      "\u001b[0m {'func': 'playerJoin', 'info': '游戏招募中', 'gid': '9a486a6e1229', 'target_name': 'test3'} \n",
      "\u001b[93mRecieve broadcast event:\n",
      "\u001b[0m {'func': 'playerReady', 'info': '游戏招募中，已准备 1/3', 'gid': '9a486a6e1229', 'target_name': 'test2'} \n",
      "\u001b[93mRecieve broadcast event:\n",
      "\u001b[0m {'func': 'playerReady', 'info': '游戏招募中，已准备 1/3', 'gid': '9a486a6e1229', 'target_name': 'test2'} \n",
      "\u001b[93mRecieve broadcast event:\n",
      "\u001b[0m {'func': 'playerReady', 'info': '游戏招募中，已准备 2/3', 'gid': '9a486a6e1229', 'target_name': 'test3'} \n",
      "\u001b[93mRecieve broadcast event:\n",
      "\u001b[0m {'func': 'playerJoin', 'info': '游戏招募中', 'gid': '9a486a6e1229', 'target_name': 'test2'} \n",
      "\u001b[93mRecieve broadcast event:\n",
      "\u001b[0m {'func': 'playerJoin', 'info': '游戏招募中', 'gid': '9a486a6e1229', 'target_name': 'test3'} \n",
      "\u001b[93mRecieve broadcast event:\n",
      "\u001b[0m {'func': 'playerReady', 'info': '游戏招募中，已准备 1/3', 'gid': '9a486a6e1229', 'target_name': 'test2'} \n",
      "\u001b[93mRecieve broadcast event:\n",
      "\u001b[0m {'func': 'playerReady', 'info': '游戏招募中，已准备 2/3', 'gid': '9a486a6e1229', 'target_name': 'test3'} \n",
      "\u001b[93mRecieve broadcast event:\n",
      "\u001b[0m {'func': 'playerReady', 'info': '游戏招募中，已准备 3/3', 'gid': '9a486a6e1229', 'target_name': 'test'} \n",
      "\u001b[93mRecieve broadcast event:\n",
      "\u001b[0m {'func': 'gameInit', 'info': '游戏开始，玩家选择起始手牌正反序', 'gid': '9a486a6e1229'} \n"
     ]
    },
    {
     "data": {
      "text/plain": [
       "({'code': 0, 'seq': 32, 'message': 'ok'},\n",
       " {'code': 0, 'seq': 33, 'message': 'ok'},\n",
       " {'code': 0, 'seq': 34, 'message': 'ok'})"
      ]
     },
     "execution_count": 17,
     "metadata": {},
     "output_type": "execute_result"
    }
   ],
   "source": [
    "await query(\n",
    "    websocket2,\n",
    "    QUERY['playerReady'],\n",
    "    name=\"test2\",\n",
    "    gid=gid\n",
    "), await query(\n",
    "    websocket3,\n",
    "    QUERY['playerReady'],\n",
    "    name=\"test3\",\n",
    "    gid=gid    \n",
    "), await query(\n",
    "    websocket,\n",
    "    QUERY['playerReady'],\n",
    "    name=\"test\",\n",
    "    gid=gid\n",
    ")"
   ]
  },
  {
   "cell_type": "code",
   "execution_count": null,
   "metadata": {},
   "outputs": [],
   "source": [
    "(json.loads(await websocket.recv()))"
   ]
  },
  {
   "cell_type": "code",
   "execution_count": null,
   "metadata": {},
   "outputs": [],
   "source": [
    "(json.loads(await websocket2.recv()))"
   ]
  },
  {
   "cell_type": "code",
   "execution_count": null,
   "metadata": {},
   "outputs": [],
   "source": [
    "(json.loads(await websocket3.recv()))"
   ]
  },
  {
   "cell_type": "code",
   "execution_count": 18,
   "metadata": {},
   "outputs": [
    {
     "name": "stdout",
     "output_type": "stream",
     "text": [
      "\u001b[93mRecieve server active message:\u001b[0m {'func': 'receivePokes', 'seq': '-1', 'gid': '9a486a6e1229', 'name': 'test', 'pokes': '4 1 5 8 5 5 9 8 9 8 3 1,T 2 9 9 1 T 7 3 4 7 6 3'}\n",
      "\u001b[93mRecieve broadcast event:\n",
      "\u001b[0m {'func': 'playerReady', 'info': '游戏招募中，已准备 2/3', 'gid': '9a486a6e1229', 'target_name': 'test3'} \n",
      "\u001b[93mRecieve broadcast event:\n",
      "\u001b[0m {'func': 'playerReady', 'info': '游戏招募中，已准备 3/3', 'gid': '9a486a6e1229', 'target_name': 'test'} \n",
      "\u001b[93mRecieve broadcast event:\n",
      "\u001b[0m {'func': 'gameInit', 'info': '游戏开始，玩家选择起始手牌正反序', 'gid': '9a486a6e1229'} \n",
      "\u001b[93mRecieve server active message:\u001b[0m {'func': 'receivePokes', 'seq': -1, 'gid': '9a486a6e1229', 'name': 'test2', 'pokes': '1 2 7 1 3 6 7 6 T T 5 7,4 3 T 7 4 4 6 9 2 9 8 3'}\n",
      "\u001b[93mRecieve broadcast event:\n",
      "\u001b[0m {'func': 'playerReady', 'info': '游戏招募中，已准备 3/3', 'gid': '9a486a6e1229', 'target_name': 'test'} \n",
      "\u001b[93mRecieve broadcast event:\n",
      "\u001b[0m {'func': 'gameInit', 'info': '游戏开始，玩家选择起始手牌正反序', 'gid': '9a486a6e1229'} \n",
      "\u001b[93mRecieve server active message:\u001b[0m {'func': 'receivePokes', 'seq': -1, 'gid': '9a486a6e1229', 'name': 'test3', 'pokes': '3 T 9 4 4 1 1 8 5 2 7 2,T 8 3 2 5 8 T 2 3 6 2 9'}\n",
      "\u001b[93mRecieve broadcast event:\n",
      "\u001b[0m {'func': 'gameStart', 'info': '游戏开始', 'gid': '9a486a6e1229', 'table': ','} \n",
      "\u001b[93mRecieve broadcast event:\n",
      "\u001b[0m {'func': 'gameAction', 'info': '游戏开始', 'gid': '9a486a6e1229', 'table': ',', 'target_name': 'test2', 'op': {'game_operation': '游戏开始: test2 先手', 'target_name': 'test2', 'type_': -1, 'detail': None}} \n"
     ]
    },
    {
     "data": {
      "text/plain": [
       "({'code': 0, 'seq': 35, 'message': 'ok'},\n",
       " {'code': 0, 'seq': 36, 'message': 'ok'},\n",
       " {'code': 0, 'seq': 37, 'message': 'ok'})"
      ]
     },
     "execution_count": 18,
     "metadata": {},
     "output_type": "execute_result"
    }
   ],
   "source": [
    "await query(\n",
    "    websocket,\n",
    "    QUERY['choosePokeOrder'],\n",
    "    name=\"test\",\n",
    "    gid=gid,\n",
    "    reverse=False\n",
    "), await query(\n",
    "    websocket2,\n",
    "    QUERY['choosePokeOrder'],\n",
    "    name=\"test2\",\n",
    "    gid=gid,\n",
    "    reverse=True\n",
    "), await query(\n",
    "    websocket3,\n",
    "    QUERY['choosePokeOrder'],\n",
    "    name=\"test3\",\n",
    "    gid=gid,\n",
    "    reverse=False\n",
    ")"
   ]
  },
  {
   "cell_type": "code",
   "execution_count": null,
   "metadata": {},
   "outputs": [],
   "source": [
    "await query(\n",
    "    websocket,\n",
    "    GET['getPokes'],\n",
    "    name=\"test\",\n",
    "    gid=gid\n",
    "), await query(\n",
    "    websocket2,\n",
    "    GET['getPokes'],\n",
    "    name=\"test2\",\n",
    "    gid=gid\n",
    "), await query(\n",
    "    websocket3,\n",
    "    GET['getPokes'],\n",
    "    name=\"test3\",\n",
    "    gid=gid\n",
    ")"
   ]
  },
  {
   "cell_type": "code",
   "execution_count": null,
   "metadata": {},
   "outputs": [],
   "source": [
    "await query(\n",
    "    websocket,\n",
    "    QUERY['show'],\n",
    "    name=\"test\",\n",
    "    gid=gid,\n",
    "    b_index=0,\n",
    "    e_index=2\n",
    ")"
   ]
  },
  {
   "cell_type": "code",
   "execution_count": null,
   "metadata": {},
   "outputs": [],
   "source": [
    "await query(\n",
    "    websocket2,\n",
    "    QUERY['show'],\n",
    "    name=\"test2\",\n",
    "    gid=gid,\n",
    "    b_index=0,\n",
    "    e_index=1\n",
    ")"
   ]
  },
  {
   "cell_type": "code",
   "execution_count": null,
   "metadata": {},
   "outputs": [],
   "source": [
    "await query(\n",
    "    websocket3,\n",
    "    QUERY['show'],\n",
    "    name=\"test3\",\n",
    "    gid=gid,\n",
    "    b_index=0,\n",
    "    e_index=1\n",
    ")"
   ]
  },
  {
   "cell_type": "code",
   "execution_count": null,
   "metadata": {},
   "outputs": [],
   "source": [
    "await query(\n",
    "    websocket,\n",
    "    QUERY['scout'],\n",
    "    name=\"test\",\n",
    "    gid=gid,\n",
    "    index=0,\n",
    "    reverse=False,\n",
    "    insert_to=0\n",
    ")"
   ]
  },
  {
   "cell_type": "code",
   "execution_count": null,
   "metadata": {},
   "outputs": [],
   "source": [
    "await query(\n",
    "    websocket2,\n",
    "    QUERY['scout'],\n",
    "    name=\"test2\",\n",
    "    gid=gid,\n",
    "    index=0,\n",
    "    reverse=True,\n",
    "    insert_to=0\n",
    ")"
   ]
  },
  {
   "cell_type": "code",
   "execution_count": null,
   "metadata": {},
   "outputs": [],
   "source": [
    "await query(\n",
    "    websocket3,\n",
    "    QUERY['scout'],\n",
    "    name=\"test3\",\n",
    "    gid=gid,\n",
    "    index=0,\n",
    "    reverse=False,\n",
    "    insert_to=0\n",
    ")"
   ]
  },
  {
   "cell_type": "code",
   "execution_count": null,
   "metadata": {},
   "outputs": [],
   "source": [
    "await query(\n",
    "    websocket,\n",
    "    GET['getGameInfo'],\n",
    "    name=\"test\",\n",
    "    gid=gid\n",
    ")"
   ]
  },
  {
   "cell_type": "code",
   "execution_count": null,
   "metadata": {},
   "outputs": [],
   "source": [
    "await query(\n",
    "    websocket,\n",
    "    GET['getTotalScore'],\n",
    "    name=\"test\",\n",
    "    gid=gid\n",
    ")"
   ]
  }
 ],
 "metadata": {
  "kernelspec": {
   "display_name": "base",
   "language": "python",
   "name": "python3"
  },
  "language_info": {
   "codemirror_mode": {
    "name": "ipython",
    "version": 3
   },
   "file_extension": ".py",
   "mimetype": "text/x-python",
   "name": "python",
   "nbconvert_exporter": "python",
   "pygments_lexer": "ipython3",
   "version": "3.12.2"
  }
 },
 "nbformat": 4,
 "nbformat_minor": 2
}
